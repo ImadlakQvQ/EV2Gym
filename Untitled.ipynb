{
 "cells": [
  {
   "cell_type": "code",
   "execution_count": 33,
   "id": "010755ae-d36a-4a96-8a85-ca76ed6830a3",
   "metadata": {},
   "outputs": [
    {
     "name": "stdout",
     "output_type": "stream",
     "text": [
      "真实值: 0.886227\n",
      "直接蒙特卡洛估计: 0.078031, 误差: 0.808196\n",
      "重要性采样估计: 1.554791, 误差: 0.668564\n"
     ]
    }
   ],
   "source": [
    "import numpy as np\n",
    "from scipy.integrate import quad\n",
    "\n",
    "def target_function(x):\n",
    "    \"\"\"目标函数 e^(-x^2)\"\"\"\n",
    "    return np.exp(-x**2)\n",
    "\n",
    "def monte_carlo_uniform(N, a, b):\n",
    "    \"\"\"直接蒙特卡洛采样，使用均匀分布\"\"\"\n",
    "    samples = np.random.uniform(a, b, N)\n",
    "    weights = target_function(samples)\n",
    "    estimation = (b - a) * np.mean(weights)\n",
    "    return estimation\n",
    "\n",
    "def importance_sampling(N, a, b, mean, std_dev):\n",
    "    \"\"\"重要性采样，使用正态分布\"\"\"\n",
    "    samples = np.random.normal(mean, std_dev, N)\n",
    "    samples = samples[(samples >= a) & (samples <= b)]\n",
    "    q_pdf = lambda x: (1 / (std_dev * np.sqrt(2 * np.pi))) * np.exp(-((x - mean) ** 2) / (2 * std_dev**2))\n",
    "    weights = target_function(samples) / q_pdf(samples)\n",
    "    estimation = np.mean(weights)\n",
    "    return estimation\n",
    "\n",
    "def main():\n",
    "    # 设置参数\n",
    "    a, b = 0, 10  # 积分区间\n",
    "    N = 10     # 样本数量\n",
    "    mean, std_dev = 1, 2  # 重要性采样的分布参数\n",
    "    \n",
    "    # 计算真实值\n",
    "    true_value, _ = quad(target_function, a, b)\n",
    "    \n",
    "    # 直接蒙特卡洛采样\n",
    "    mc_estimation = monte_carlo_uniform(N, a, b)\n",
    "    \n",
    "    # 重要性采样\n",
    "    is_estimation = importance_sampling(N, a, b, mean, std_dev)\n",
    "    \n",
    "    # 打印结果\n",
    "    print(f\"真实值: {true_value:.6f}\")\n",
    "    print(f\"直接蒙特卡洛估计: {mc_estimation:.6f}, 误差: {abs(mc_estimation - true_value):.6f}\")\n",
    "    print(f\"重要性采样估计: {is_estimation:.6f}, 误差: {abs(is_estimation - true_value):.6f}\")\n",
    "\n",
    "if __name__ == \"__main__\":\n",
    "    main()\n",
    "\n"
   ]
  },
  {
   "cell_type": "code",
   "execution_count": null,
   "id": "8af72419-be63-4e3b-af3c-373ebb64b8ef",
   "metadata": {},
   "outputs": [],
   "source": []
  },
  {
   "cell_type": "code",
   "execution_count": null,
   "id": "627a64ef-93b9-4bd8-ad70-71db9cb72120",
   "metadata": {},
   "outputs": [],
   "source": []
  },
  {
   "cell_type": "code",
   "execution_count": null,
   "id": "e7ef985f-cf45-4716-a445-f275fc0b3cab",
   "metadata": {},
   "outputs": [],
   "source": []
  },
  {
   "cell_type": "code",
   "execution_count": null,
   "id": "6b2e480b-2845-4597-ad69-634b7901f724",
   "metadata": {},
   "outputs": [],
   "source": []
  },
  {
   "cell_type": "code",
   "execution_count": null,
   "id": "333ff2d1-162a-46c2-b3ea-a819724351e6",
   "metadata": {},
   "outputs": [],
   "source": []
  },
  {
   "cell_type": "code",
   "execution_count": null,
   "id": "f17e60a2-9002-4a87-8423-6f4c99e0c3e4",
   "metadata": {},
   "outputs": [],
   "source": []
  }
 ],
 "metadata": {
  "kernelspec": {
   "display_name": "Python 3 (ipykernel)",
   "language": "python",
   "name": "python3"
  },
  "language_info": {
   "codemirror_mode": {
    "name": "ipython",
    "version": 3
   },
   "file_extension": ".py",
   "mimetype": "text/x-python",
   "name": "python",
   "nbconvert_exporter": "python",
   "pygments_lexer": "ipython3",
   "version": "3.10.13"
  }
 },
 "nbformat": 4,
 "nbformat_minor": 5
}
